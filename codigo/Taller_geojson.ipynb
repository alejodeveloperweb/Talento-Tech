{
  "nbformat": 4,
  "nbformat_minor": 0,
  "metadata": {
    "colab": {
      "provenance": []
    },
    "kernelspec": {
      "name": "python3",
      "display_name": "Python 3"
    },
    "language_info": {
      "name": "python"
    }
  },
  "cells": [
    {
      "cell_type": "code",
      "execution_count": null,
      "metadata": {
        "id": "xIv2X86aPzPL"
      },
      "outputs": [],
      "source": [
        "import geopandas as gpd\n"
      ]
    },
    {
      "cell_type": "code",
      "source": [
        "ruta_municipios = '/content/municipios.geojson'"
      ],
      "metadata": {
        "id": "ciQK4is3Q_bg"
      },
      "execution_count": null,
      "outputs": []
    },
    {
      "cell_type": "code",
      "source": [
        "shapes = gpd.read_file(ruta_municipios)"
      ],
      "metadata": {
        "id": "UPyNuPykR_6V"
      },
      "execution_count": null,
      "outputs": []
    },
    {
      "cell_type": "code",
      "source": [
        "from shapely.geometry import Point, Polygon, LineString\n"
      ],
      "metadata": {
        "id": "LWAQmRIJUdoL"
      },
      "execution_count": null,
      "outputs": []
    },
    {
      "cell_type": "code",
      "source": [
        "tu_hogar = Point(2.4355993719026183, -76.60480276339848)"
      ],
      "metadata": {
        "id": "w0UPnxGFUh6v"
      },
      "execution_count": null,
      "outputs": []
    },
    {
      "cell_type": "code",
      "source": [
        "carretera_1 = LineString([(2.435280479104154, -76.60525075165086), (2.436103751101765, -76.60499199039067)])\n",
        "carretera_2 = LineString([(2.43578749423537, -76.60411521680027), (2.4349968517401632, -76.604381514797)])"
      ],
      "metadata": {
        "id": "IhK4paCOe1an"
      },
      "execution_count": null,
      "outputs": []
    },
    {
      "cell_type": "code",
      "source": [
        "mis_geometrias = gpd.GeoDataFrame(geometry=[tu_hogar, carretera_1, carretera_2])\n"
      ],
      "metadata": {
        "id": "nLoltO_xfmI2"
      },
      "execution_count": null,
      "outputs": []
    },
    {
      "cell_type": "code",
      "source": [
        "mis_geometrias.to_file('/content/archivogeojson/archivo1.geojson', driver='GeoJSON')"
      ],
      "metadata": {
        "id": "Cjzi3Fs8g4RX"
      },
      "execution_count": null,
      "outputs": []
    }
  ]
}